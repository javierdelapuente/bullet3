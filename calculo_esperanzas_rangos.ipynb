{
  "nbformat": 4,
  "nbformat_minor": 0,
  "metadata": {
    "colab": {
      "name": "calculo_esperanzas_rangos.ipynb",
      "provenance": [],
      "authorship_tag": "ABX9TyPPuKL+aWcgJ6wEt9nkm6wY",
      "include_colab_link": true
    },
    "kernelspec": {
      "name": "python3",
      "display_name": "Python 3"
    }
  },
  "cells": [
    {
      "cell_type": "markdown",
      "metadata": {
        "id": "view-in-github",
        "colab_type": "text"
      },
      "source": [
        "<a href=\"https://colab.research.google.com/github/javierdelapuente/bullet3/blob/master/calculo_esperanzas_rangos.ipynb\" target=\"_parent\"><img src=\"https://colab.research.google.com/assets/colab-badge.svg\" alt=\"Open In Colab\"/></a>"
      ]
    },
    {
      "cell_type": "markdown",
      "metadata": {
        "id": "pNHJu2jduift"
      },
      "source": [
        "# Cálculo de probabilidades de rangos de premios"
      ]
    },
    {
      "cell_type": "code",
      "metadata": {
        "colab": {
          "base_uri": "https://localhost:8080/"
        },
        "id": "5sw6l8Myur_k",
        "outputId": "58d1353a-2f38-4999-f951-031c2e77ad3e"
      },
      "source": [
        "import sys\n",
        "import os\n",
        "try:\n",
        "    import google.colab\n",
        "    IN_COLAB = True\n",
        "except:\n",
        "    IN_COLAB = False\n",
        "    \n",
        "if IN_COLAB:\n",
        "    # Esto es para la librería\n",
        "    ! git clone https://github.com/javierdelapuente/quiniela.git\n",
        "    ! cd quiniela && git pull\n",
        "    nuevo_path = os.path.join(os.getcwd(), \"quiniela\")\n",
        "    if nuevo_path not in sys.path:\n",
        "        sys.path.insert(0, nuevo_path)  "
      ],
      "execution_count": 1,
      "outputs": [
        {
          "output_type": "stream",
          "text": [
            "fatal: destination path 'quiniela' already exists and is not an empty directory.\n",
            "Already up to date.\n"
          ],
          "name": "stdout"
        }
      ]
    },
    {
      "cell_type": "code",
      "metadata": {
        "id": "jJaxkV6Cuwgf"
      },
      "source": [
        "import os\n",
        "%matplotlib inline\n",
        "import matplotlib.pyplot as plt\n",
        "import itertools\n",
        "import numpy as np\n",
        "import pandas as pd\n",
        "import time\n",
        "import datetime\n",
        "import quiniela_utils as qu\n",
        "from IPython.display import display\n",
        "from scipy.special import comb\n",
        "from scipy.stats import binom\n",
        "np.set_printoptions(precision=25)\n",
        "\n",
        "import logging\n",
        "logger = logging.getLogger()\n",
        "logger.setLevel(logging.DEBUG)"
      ],
      "execution_count": 2,
      "outputs": []
    },
    {
      "cell_type": "code",
      "metadata": {
        "colab": {
          "base_uri": "https://localhost:8080/"
        },
        "id": "Pkz5IXkquzQL",
        "outputId": "e666ad01-7232-4970-af24-9bac28c55578"
      },
      "source": [
        "%%time\n",
        "partidos_one_hot = qu.crear_todos_partidos()"
      ],
      "execution_count": 3,
      "outputs": [
        {
          "output_type": "stream",
          "text": [
            "CPU times: user 1.25 s, sys: 135 ms, total: 1.38 s\n",
            "Wall time: 1.38 s\n"
          ],
          "name": "stdout"
        }
      ]
    },
    {
      "cell_type": "code",
      "metadata": {
        "colab": {
          "base_uri": "https://localhost:8080/"
        },
        "id": "g2ZXhLmvu1IF",
        "outputId": "6cefb682-61df-43ca-b02c-1334fab07da9"
      },
      "source": [
        "jornada = qu.DatosJornada(2021, 24)\n",
        "\n",
        "probs_real = jornada.probabilidades_reales\n",
        "probs_lae = jornada.probabilidades_lae\n",
        "probs_real, probs_lae"
      ],
      "execution_count": 4,
      "outputs": [
        {
          "output_type": "execute_result",
          "data": {
            "text/plain": [
              "(array([[0.42350000000000004, 0.2995             , 0.277              ],\n",
              "        [0.7458             , 0.16140000000000002, 0.0928             ],\n",
              "        [0.3375             , 0.33640000000000003, 0.3261             ],\n",
              "        [0.3848             , 0.2788             , 0.33640000000000003],\n",
              "        [0.4275             , 0.2863             , 0.2862             ],\n",
              "        [0.6406999999999999 , 0.2427             , 0.11660000000000001],\n",
              "        [0.5315             , 0.2621             , 0.2064             ],\n",
              "        [0.09140000000000001, 0.16899999999999998, 0.7395999999999999 ],\n",
              "        [0.4042             , 0.29600000000000004, 0.2998             ],\n",
              "        [0.3907             , 0.2878             , 0.3215             ],\n",
              "        [0.4073             , 0.3091             , 0.2836             ],\n",
              "        [0.5945             , 0.23320000000000002, 0.1723             ],\n",
              "        [0.5922999999999999 , 0.23809999999999998, 0.1696             ],\n",
              "        [0.10060000000000001, 0.1666             , 0.7328             ]]),\n",
              " array([[0.47000000000000003, 0.33               , 0.2                ],\n",
              "        [0.88               , 0.08               , 0.04               ],\n",
              "        [0.38               , 0.36               , 0.26               ],\n",
              "        [0.39               , 0.31               , 0.3                ],\n",
              "        [0.38               , 0.32               , 0.3                ],\n",
              "        [0.8300000000000001 , 0.12               , 0.05               ],\n",
              "        [0.72               , 0.19               , 0.09               ],\n",
              "        [0.06               , 0.08               , 0.86               ],\n",
              "        [0.41000000000000003, 0.36               , 0.23               ],\n",
              "        [0.47000000000000003, 0.32               , 0.21               ],\n",
              "        [0.53               , 0.29               , 0.18               ],\n",
              "        [0.79               , 0.14               , 0.07               ],\n",
              "        [0.84               , 0.11               , 0.05               ],\n",
              "        [0.08               , 0.14               , 0.78               ]]))"
            ]
          },
          "metadata": {
            "tags": []
          },
          "execution_count": 4
        }
      ]
    },
    {
      "cell_type": "code",
      "metadata": {
        "colab": {
          "base_uri": "https://localhost:8080/"
        },
        "id": "j0IoKtANu3kx",
        "outputId": "ee07a1fd-1dcf-4299-f319-5ba157b7a131"
      },
      "source": [
        "num_apuestas = 5\n",
        "idx_partidos = np.random.randint(0, partidos_one_hot.shape[0], size=num_apuestas)\n",
        "apuestas_jugadas = partidos_one_hot[idx_partidos]\n",
        "apuestas_jugadas"
      ],
      "execution_count": 5,
      "outputs": [
        {
          "output_type": "execute_result",
          "data": {
            "text/plain": [
              "array([[[0, 1, 0],\n",
              "        [0, 0, 1],\n",
              "        [0, 1, 0],\n",
              "        [0, 1, 0],\n",
              "        [0, 0, 1],\n",
              "        [0, 0, 1],\n",
              "        [1, 0, 0],\n",
              "        [0, 1, 0],\n",
              "        [1, 0, 0],\n",
              "        [0, 1, 0],\n",
              "        [0, 0, 1],\n",
              "        [1, 0, 0],\n",
              "        [1, 0, 0],\n",
              "        [0, 1, 0]],\n",
              "\n",
              "       [[0, 0, 1],\n",
              "        [1, 0, 0],\n",
              "        [0, 0, 1],\n",
              "        [0, 0, 1],\n",
              "        [0, 1, 0],\n",
              "        [1, 0, 0],\n",
              "        [1, 0, 0],\n",
              "        [0, 1, 0],\n",
              "        [1, 0, 0],\n",
              "        [0, 1, 0],\n",
              "        [1, 0, 0],\n",
              "        [1, 0, 0],\n",
              "        [1, 0, 0],\n",
              "        [0, 0, 1]],\n",
              "\n",
              "       [[1, 0, 0],\n",
              "        [1, 0, 0],\n",
              "        [1, 0, 0],\n",
              "        [1, 0, 0],\n",
              "        [0, 0, 1],\n",
              "        [1, 0, 0],\n",
              "        [0, 0, 1],\n",
              "        [0, 0, 1],\n",
              "        [1, 0, 0],\n",
              "        [0, 0, 1],\n",
              "        [0, 1, 0],\n",
              "        [1, 0, 0],\n",
              "        [1, 0, 0],\n",
              "        [0, 0, 1]],\n",
              "\n",
              "       [[0, 1, 0],\n",
              "        [0, 0, 1],\n",
              "        [0, 1, 0],\n",
              "        [0, 0, 1],\n",
              "        [0, 0, 1],\n",
              "        [1, 0, 0],\n",
              "        [0, 0, 1],\n",
              "        [1, 0, 0],\n",
              "        [0, 0, 1],\n",
              "        [1, 0, 0],\n",
              "        [1, 0, 0],\n",
              "        [0, 1, 0],\n",
              "        [0, 1, 0],\n",
              "        [0, 0, 1]],\n",
              "\n",
              "       [[0, 1, 0],\n",
              "        [1, 0, 0],\n",
              "        [1, 0, 0],\n",
              "        [0, 0, 1],\n",
              "        [0, 0, 1],\n",
              "        [0, 0, 1],\n",
              "        [0, 0, 1],\n",
              "        [1, 0, 0],\n",
              "        [1, 0, 0],\n",
              "        [0, 0, 1],\n",
              "        [1, 0, 0],\n",
              "        [0, 1, 0],\n",
              "        [1, 0, 0],\n",
              "        [0, 0, 1]]], dtype=int8)"
            ]
          },
          "metadata": {
            "tags": []
          },
          "execution_count": 5
        }
      ]
    },
    {
      "cell_type": "code",
      "metadata": {
        "id": "YsB5lpo3vNWA"
      },
      "source": [
        "from numpy import floor, ceil, log, exp, sqrt, log1p, expm1, tanh, cosh, sinh\n",
        "from scipy.special import entr, logsumexp, betaln, gammaln as gamln\n",
        "from scipy import special\n",
        "\n",
        "# copiado de scipy.stats y optimizado para calcule el coef binomial por adelantado\n",
        "class MiBinom:\n",
        "    def __init__(self, n, max_k):\n",
        "        self.n = n\n",
        "        self.max_k = max_k\n",
        "        self.k = np.arange(max_k)\n",
        "        self.combiln = (gamln(self.n+1) - (gamln(self.k+1) + gamln(self.n-self.k+1)))\n",
        "        \n",
        "    def logpmf(self, p):\n",
        "        return self.combiln + special.xlogy(self.k, p) + special.xlog1py(self.n-self.k, -p)\n",
        "\n",
        "    def pmf(self, p):\n",
        "        return exp(self.logpmf(p))\n"
      ],
      "execution_count": 6,
      "outputs": []
    },
    {
      "cell_type": "code",
      "metadata": {
        "colab": {
          "base_uri": "https://localhost:8080/",
          "height": 521
        },
        "id": "QyrAlRmhu5R8",
        "outputId": "cc629476-00f2-4c4a-d9a6-c8a1aa94c399"
      },
      "source": [
        "for num_aciertos in range(10, 15):\n",
        "    # 1. reshape y elimino duplicados, con cuenta de duplicados de cada uno de ellos.\n",
        "    partidos_ganadores = qu.generar_todas_combinaciones_ganadoras(apuestas_jugadas, num_aciertos)\n",
        "    #display(partidos_ganadores.shape)\n",
        "    partidos_ganadores = np.reshape(partidos_ganadores, (-1, partidos_ganadores.shape[-2],partidos_ganadores.shape[-1]))\n",
        "    display(partidos_ganadores.shape)\n",
        "    partidos_ganadores, cuenta = np.unique(partidos_ganadores, axis = 0, return_counts = True)\n",
        "    display(partidos_ganadores.shape)\n",
        "\n",
        "    # 2. calculo prob reales para cada uno de ellos.\n",
        "    partidos_probs_reales = (partidos_ganadores*probs_real).sum(axis = 2).prod(axis = 1)\n",
        "    # display(partidos_probs_reales.shape)\n",
        "    \n",
        "    # 3. calculo prob lae para cada uno de ellos. *en bloques de 20000 para que no pete la memoria.\n",
        "    partidos_prob_lae = qu.probabilidades_lae_partidos(partidos_ganadores, num_aciertos, probs_lae)\n",
        "\n",
        "    # 4. Esto es lo jodido. Explicarlo.\n",
        "    a_repartir = jornada.total_premios_con_aciertos(num_aciertos)\n",
        "    num_apuestas_jugadas = jornada.num_apuestas_jugadas\n",
        "\n",
        "    # cuidado, que para 14 se reparte lo que sea...\n",
        "    minimo_importe_repartido = (1.5 if num_aciertos == 10 else 1)\n",
        "    b = MiBinom(num_apuestas_jugadas, a_repartir//1.5)\n",
        "\n",
        "    start = time.time()\n",
        "    for i, (p_real, p_lae) in enumerate(zip(partidos_probs_reales, partidos_prob_lae)):\n",
        "      pmf = b.pmf(p_lae) # esto es lo lento...\n",
        "      if i % 1000 == 0:\n",
        "        end = time.time()\n",
        "        print(i, \"time\", end - start)\n",
        "\n"
      ],
      "execution_count": 7,
      "outputs": [
        {
          "output_type": "display_data",
          "data": {
            "text/plain": [
              "(80080, 14, 3)"
            ]
          },
          "metadata": {
            "tags": []
          }
        },
        {
          "output_type": "display_data",
          "data": {
            "text/plain": [
              "(79051, 14, 3)"
            ]
          },
          "metadata": {
            "tags": []
          }
        },
        {
          "output_type": "stream",
          "text": [
            "DEBUG:root:0,10000 (10000, 14, 3)\n",
            "DEBUG:root:10000,20000 (10000, 14, 3)\n",
            "DEBUG:root:20000,30000 (10000, 14, 3)\n",
            "DEBUG:root:30000,40000 (10000, 14, 3)\n",
            "DEBUG:root:40000,50000 (10000, 14, 3)\n",
            "DEBUG:root:50000,60000 (10000, 14, 3)\n",
            "DEBUG:root:60000,70000 (10000, 14, 3)\n",
            "DEBUG:root:70000,79051 (9051, 14, 3)\n"
          ],
          "name": "stderr"
        },
        {
          "output_type": "stream",
          "text": [
            "0 time 0.00826573371887207\n",
            "1000 time 8.03368854522705\n"
          ],
          "name": "stdout"
        },
        {
          "output_type": "error",
          "ename": "KeyboardInterrupt",
          "evalue": "ignored",
          "traceback": [
            "\u001b[0;31m---------------------------------------------------------------------------\u001b[0m",
            "\u001b[0;31mKeyboardInterrupt\u001b[0m                         Traceback (most recent call last)",
            "\u001b[0;32m<ipython-input-7-3efbde41ac04>\u001b[0m in \u001b[0;36m<module>\u001b[0;34m()\u001b[0m\n\u001b[1;32m     25\u001b[0m     \u001b[0mstart\u001b[0m \u001b[0;34m=\u001b[0m \u001b[0mtime\u001b[0m\u001b[0;34m.\u001b[0m\u001b[0mtime\u001b[0m\u001b[0;34m(\u001b[0m\u001b[0;34m)\u001b[0m\u001b[0;34m\u001b[0m\u001b[0;34m\u001b[0m\u001b[0m\n\u001b[1;32m     26\u001b[0m     \u001b[0;32mfor\u001b[0m \u001b[0mi\u001b[0m\u001b[0;34m,\u001b[0m \u001b[0;34m(\u001b[0m\u001b[0mp_real\u001b[0m\u001b[0;34m,\u001b[0m \u001b[0mp_lae\u001b[0m\u001b[0;34m)\u001b[0m \u001b[0;32min\u001b[0m \u001b[0menumerate\u001b[0m\u001b[0;34m(\u001b[0m\u001b[0mzip\u001b[0m\u001b[0;34m(\u001b[0m\u001b[0mpartidos_probs_reales\u001b[0m\u001b[0;34m,\u001b[0m \u001b[0mpartidos_prob_lae\u001b[0m\u001b[0;34m)\u001b[0m\u001b[0;34m)\u001b[0m\u001b[0;34m:\u001b[0m\u001b[0;34m\u001b[0m\u001b[0;34m\u001b[0m\u001b[0m\n\u001b[0;32m---> 27\u001b[0;31m       \u001b[0mpmf\u001b[0m \u001b[0;34m=\u001b[0m \u001b[0mb\u001b[0m\u001b[0;34m.\u001b[0m\u001b[0mpmf\u001b[0m\u001b[0;34m(\u001b[0m\u001b[0mp_lae\u001b[0m\u001b[0;34m)\u001b[0m \u001b[0;31m# esto es lo lento...\u001b[0m\u001b[0;34m\u001b[0m\u001b[0;34m\u001b[0m\u001b[0m\n\u001b[0m\u001b[1;32m     28\u001b[0m       \u001b[0;32mif\u001b[0m \u001b[0mi\u001b[0m \u001b[0;34m%\u001b[0m \u001b[0;36m1000\u001b[0m \u001b[0;34m==\u001b[0m \u001b[0;36m0\u001b[0m\u001b[0;34m:\u001b[0m\u001b[0;34m\u001b[0m\u001b[0;34m\u001b[0m\u001b[0m\n\u001b[1;32m     29\u001b[0m         \u001b[0mend\u001b[0m \u001b[0;34m=\u001b[0m \u001b[0mtime\u001b[0m\u001b[0;34m.\u001b[0m\u001b[0mtime\u001b[0m\u001b[0;34m(\u001b[0m\u001b[0;34m)\u001b[0m\u001b[0;34m\u001b[0m\u001b[0;34m\u001b[0m\u001b[0m\n",
            "\u001b[0;32m<ipython-input-6-9943ee68c6cd>\u001b[0m in \u001b[0;36mpmf\u001b[0;34m(self, p)\u001b[0m\n\u001b[1;32m     15\u001b[0m \u001b[0;34m\u001b[0m\u001b[0m\n\u001b[1;32m     16\u001b[0m     \u001b[0;32mdef\u001b[0m \u001b[0mpmf\u001b[0m\u001b[0;34m(\u001b[0m\u001b[0mself\u001b[0m\u001b[0;34m,\u001b[0m \u001b[0mp\u001b[0m\u001b[0;34m)\u001b[0m\u001b[0;34m:\u001b[0m\u001b[0;34m\u001b[0m\u001b[0;34m\u001b[0m\u001b[0m\n\u001b[0;32m---> 17\u001b[0;31m         \u001b[0;32mreturn\u001b[0m \u001b[0mexp\u001b[0m\u001b[0;34m(\u001b[0m\u001b[0mself\u001b[0m\u001b[0;34m.\u001b[0m\u001b[0mlogpmf\u001b[0m\u001b[0;34m(\u001b[0m\u001b[0mp\u001b[0m\u001b[0;34m)\u001b[0m\u001b[0;34m)\u001b[0m\u001b[0;34m\u001b[0m\u001b[0;34m\u001b[0m\u001b[0m\n\u001b[0m",
            "\u001b[0;31mKeyboardInterrupt\u001b[0m: "
          ]
        }
      ]
    }
  ]
}